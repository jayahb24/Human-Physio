{
  "metadata": {
    "kernelspec": {
      "display_name": "Pyolite",
      "language": "python",
      "name": "python"
    },
    "language_info": {
      "codemirror_mode": {
        "name": "python",
        "version": 3
      },
      "file_extension": ".py",
      "mimetype": "text/x-python",
      "name": "python",
      "nbconvert_exporter": "python",
      "pygments_lexer": "ipython3",
      "version": "3.8"
    }
  },
  "nbformat_minor": 5,
  "nbformat": 4,
  "cells": [
    {
      "cell_type": "code",
      "source": "import numpy as np \nimport matplotlib.pyplot as plt ",
      "metadata": {
        "trusted": true
      },
      "execution_count": 1,
      "outputs": [],
      "id": "374ba1a0-82a8-463c-9acf-dd2e8bafbdd4"
    },
    {
      "cell_type": "code",
      "source": "X = ['5 kg','10 kg','15 kg','20 kg']\ndom = [0.044,0.081,0.0,0.381]\nnondom = [0.067,0.097,0.154,0.297]",
      "metadata": {},
      "execution_count": null,
      "outputs": [],
      "id": "f84e3d20-e8d7-40e5-bb7d-a3548771d95c"
    }
  ]
}